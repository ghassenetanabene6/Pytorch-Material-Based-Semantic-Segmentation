{
 "cells": [
  {
   "cell_type": "code",
   "execution_count": 4,
   "id": "75f46e58",
   "metadata": {},
   "outputs": [],
   "source": [
    "import os\n",
    "import io\n",
    "import random\n",
    "import cv2\n",
    "import numpy as np\n",
    "from PIL import Image\n",
    "import matplotlib.pyplot as plt"
   ]
  },
  {
   "cell_type": "code",
   "execution_count": 5,
   "id": "22f5e709",
   "metadata": {},
   "outputs": [],
   "source": [
    "#for aws instance\n",
    "import os\n",
    "os.environ['MKL_THREADING_LAYER'] = 'GNU'"
   ]
  },
  {
   "cell_type": "code",
   "execution_count": 11,
   "id": "22fb5bca",
   "metadata": {},
   "outputs": [
    {
     "data": {
      "text/plain": [
       "'000148_025'"
      ]
     },
     "execution_count": 11,
     "metadata": {},
     "output_type": "execute_result"
    }
   ],
   "source": [
    "train=open('HRIM2021/ImageSets/Segmentation/train.txt','r')\n",
    "new_train=open('HRIM2021/ImageSets/Segmentation/train2.txt','w+')\n",
    "T=train.readlines()\n",
    "T=list(T)\n",
    "for item in T : \n",
    "    L=item.split('_')\n",
    "    new_train.write(L[0]+'_'+L[1]+'\\n')\n",
    "train.close()\n",
    "new_train.close()"
   ]
  },
  {
   "cell_type": "code",
   "execution_count": null,
   "id": "1849dae4",
   "metadata": {},
   "outputs": [],
   "source": [
    "!python train.py --config config-Deeplab-resnet101-0.01.json"
   ]
  },
  {
   "cell_type": "markdown",
   "id": "4a2c20f0",
   "metadata": {},
   "source": [
    "# <hr> <center>》》》Data Augmentation Notebook《《《</center> <hr>"
   ]
  },
  {
   "cell_type": "markdown",
   "id": "d728ae7a",
   "metadata": {},
   "source": [
    "# Installing requirements"
   ]
  },
  {
   "cell_type": "code",
   "execution_count": 1,
   "id": "897ffafb",
   "metadata": {},
   "outputs": [
    {
     "name": "stdout",
     "output_type": "stream",
     "text": [
      "Collecting albumentations\n",
      "  Downloading albumentations-1.0.3-py3-none-any.whl (98 kB)\n",
      "\u001b[K     |████████████████████████████████| 98 kB 826 kB/s eta 0:00:011\n",
      "\u001b[?25hCollecting opencv-python-headless>=4.1.1\n",
      "  Downloading opencv_python_headless-4.5.3.56-cp36-cp36m-manylinux2014_x86_64.whl (37.1 MB)\n",
      "\u001b[K     |████████████████████████████████| 37.1 MB 34.8 MB/s eta 0:00:01    |███████▉                        | 9.1 MB 51.2 MB/s eta 0:00:01     |████████████▉                   | 14.9 MB 51.2 MB/s eta 0:00:01     |███████████████████▉            | 23.1 MB 51.2 MB/s eta 0:00:01     |█████████████████████████████   | 33.7 MB 34.8 MB/s eta 0:00:01     |█████████████████████████████▊  | 34.5 MB 34.8 MB/s eta 0:00:01     |██████████████████████████████▉ | 35.8 MB 34.8 MB/s eta 0:00:01     |███████████████████████████████▉| 36.9 MB 34.8 MB/s eta 0:00:01\n",
      "\u001b[?25hRequirement already satisfied: scikit-image>=0.16.1 in /home/ec2-user/anaconda3/envs/pytorch_p36/lib/python3.6/site-packages (from albumentations) (0.16.2)\n",
      "Requirement already satisfied: PyYAML in /home/ec2-user/anaconda3/envs/pytorch_p36/lib/python3.6/site-packages (from albumentations) (5.4.1)\n",
      "Requirement already satisfied: numpy>=1.11.1 in /home/ec2-user/anaconda3/envs/pytorch_p36/lib/python3.6/site-packages (from albumentations) (1.19.5)\n",
      "Requirement already satisfied: scipy in /home/ec2-user/anaconda3/envs/pytorch_p36/lib/python3.6/site-packages (from albumentations) (1.5.3)\n",
      "Requirement already satisfied: matplotlib!=3.0.0,>=2.0.0 in /home/ec2-user/anaconda3/envs/pytorch_p36/lib/python3.6/site-packages (from scikit-image>=0.16.1->albumentations) (3.3.4)\n",
      "Requirement already satisfied: networkx>=2.0 in /home/ec2-user/anaconda3/envs/pytorch_p36/lib/python3.6/site-packages (from scikit-image>=0.16.1->albumentations) (2.5)\n",
      "Requirement already satisfied: pillow>=4.3.0 in /home/ec2-user/anaconda3/envs/pytorch_p36/lib/python3.6/site-packages (from scikit-image>=0.16.1->albumentations) (8.2.0)\n",
      "Requirement already satisfied: imageio>=2.3.0 in /home/ec2-user/anaconda3/envs/pytorch_p36/lib/python3.6/site-packages (from scikit-image>=0.16.1->albumentations) (2.9.0)\n",
      "Requirement already satisfied: PyWavelets>=0.4.0 in /home/ec2-user/anaconda3/envs/pytorch_p36/lib/python3.6/site-packages (from scikit-image>=0.16.1->albumentations) (1.1.1)\n",
      "Requirement already satisfied: kiwisolver>=1.0.1 in /home/ec2-user/anaconda3/envs/pytorch_p36/lib/python3.6/site-packages (from matplotlib!=3.0.0,>=2.0.0->scikit-image>=0.16.1->albumentations) (1.3.1)\n",
      "Requirement already satisfied: pyparsing!=2.0.4,!=2.1.2,!=2.1.6,>=2.0.3 in /home/ec2-user/anaconda3/envs/pytorch_p36/lib/python3.6/site-packages (from matplotlib!=3.0.0,>=2.0.0->scikit-image>=0.16.1->albumentations) (2.4.7)\n",
      "Requirement already satisfied: cycler>=0.10 in /home/ec2-user/anaconda3/envs/pytorch_p36/lib/python3.6/site-packages (from matplotlib!=3.0.0,>=2.0.0->scikit-image>=0.16.1->albumentations) (0.10.0)\n",
      "Requirement already satisfied: python-dateutil>=2.1 in /home/ec2-user/anaconda3/envs/pytorch_p36/lib/python3.6/site-packages (from matplotlib!=3.0.0,>=2.0.0->scikit-image>=0.16.1->albumentations) (2.8.1)\n",
      "Requirement already satisfied: six in /home/ec2-user/anaconda3/envs/pytorch_p36/lib/python3.6/site-packages (from cycler>=0.10->matplotlib!=3.0.0,>=2.0.0->scikit-image>=0.16.1->albumentations) (1.15.0)\n",
      "Requirement already satisfied: decorator>=4.3.0 in /home/ec2-user/anaconda3/envs/pytorch_p36/lib/python3.6/site-packages (from networkx>=2.0->scikit-image>=0.16.1->albumentations) (4.4.2)\n",
      "Installing collected packages: opencv-python-headless, albumentations\n",
      "Successfully installed albumentations-1.0.3 opencv-python-headless-4.5.3.56\n",
      "\u001b[33mWARNING: You are using pip version 21.1.2; however, version 21.2.4 is available.\n",
      "You should consider upgrading via the '/home/ec2-user/anaconda3/envs/pytorch_p36/bin/python -m pip install --upgrade pip' command.\u001b[0m\n",
      "Requirement already satisfied: tqdm in /home/ec2-user/anaconda3/envs/pytorch_p36/lib/python3.6/site-packages (4.57.0)\n",
      "\u001b[33mWARNING: You are using pip version 21.1.2; however, version 21.2.4 is available.\n",
      "You should consider upgrading via the '/home/ec2-user/anaconda3/envs/pytorch_p36/bin/python -m pip install --upgrade pip' command.\u001b[0m\n"
     ]
    }
   ],
   "source": [
    "!pip install albumentations\n",
    "!pip install tqdm"
   ]
  },
  {
   "cell_type": "markdown",
   "id": "65ec5a9f",
   "metadata": {},
   "source": [
    "# Data augmentation"
   ]
  },
  {
   "cell_type": "code",
   "execution_count": 18,
   "id": "1c90569c",
   "metadata": {},
   "outputs": [
    {
     "name": "stdout",
     "output_type": "stream",
     "text": [
      "create aug image dir.\n",
      "create aug mask dir.\n",
      "/home/ec2-user/anaconda3/envs/pytorch_p36/lib/python3.6/site-packages/albumentations/augmentations/transforms.py:690: FutureWarning: This class has been deprecated. Please use CoarseDropout\n",
      "  FutureWarning,\n",
      "/home/ec2-user/anaconda3/envs/pytorch_p36/lib/python3.6/site-packages/albumentations/augmentations/transforms.py:915: FutureWarning: This class has been deprecated. Please use ImageCompression\n",
      "  FutureWarning,\n"
     ]
    }
   ],
   "source": [
    "!python utils/data_augmentation.py --JPEGImages HRIM2021/OriginalJPEGImages --SegmentationClass HRIM2021/OriginalSegmentationClass --output HRIM2021"
   ]
  },
  {
   "cell_type": "markdown",
   "id": "799904c3",
   "metadata": {},
   "source": [
    "# Updating Image Sets "
   ]
  },
  {
   "cell_type": "code",
   "execution_count": 36,
   "id": "c20577eb",
   "metadata": {},
   "outputs": [],
   "source": [
    "import os\n",
    "def rename_all_images_masks_set(image_set_path,JPEGImages):\n",
    "    \n",
    "\n",
    "    if not os.path.exists(image_set_path):\n",
    "        os.makedirs(image_set_path)\n",
    "        print('create {} output directory.'.format(image_set_path))\n",
    "        \n",
    "    image_set=open(image_set_path+'/all_aug.txt','w+')\n",
    "    res= os.walk(JPEGImages)\n",
    "    id_images=[]\n",
    "    for root,dirs,files in res:\n",
    "        for f in files:\n",
    "            id_images.append(f.replace('.jpg',''))\n",
    "\n",
    "    \n",
    "    for id_image in id_images:\n",
    "        \n",
    "        try:\n",
    "            aug_index = 0\n",
    "\n",
    "            image_set.write(id_image +'\\n')\n",
    "            aug_index+=1\n",
    "        except:\n",
    "            print(\"error :\", id_image)\n",
    "    image_set.close()\n",
    "\n",
    "\n",
    "def rename_sets(train,image_set_path):\n",
    "    \n",
    "\n",
    "    if not os.path.exists(image_set_path):\n",
    "        os.makedirs(image_set_path)\n",
    "        print('create {} output directory.'.format(image_set_path))\n",
    "        \n",
    "    train=open(train,'r')\n",
    "    new_train=open(image_set_path+'/train.txt','w+')\n",
    "    T=train.readlines()\n",
    "    T=list(T)\n",
    "    '''\n",
    "    val=open(val,'r')\n",
    "    trainval=open(trainval,'r')\n",
    "    test=open(test,'r')\n",
    "    \n",
    "    \n",
    "    new_val=open(image_set_path+'/val.txt','w+')\n",
    "    new_trainval=open(image_set_path+'/trainval.txt','w+')\n",
    "    new_test=open(image_set_path+'/test.txt','w+')\n",
    "    \n",
    "    \n",
    "    V=val.readlines()\n",
    "    TV=trainval.readlines()\n",
    "    t=test.readlines()\n",
    "    \n",
    "    for v in V:\n",
    "        new_val.write(v + '_' + str(0).zfill(3) +'\\n')\n",
    "        \n",
    "    for tes in t:\n",
    "        new_test.write(tes + '_' + str(0).zfill(3) +'\\n')\n",
    "    '''\n",
    "    for tr in T:\n",
    "        for i in range(27):\n",
    "            new_train.write(tr.replace('\\n','') + '_' + str(i).zfill(3) +'\\n')\n",
    "\n",
    "    train.close()\n",
    "    new_train.close()"
   ]
  },
  {
   "cell_type": "code",
   "execution_count": 25,
   "id": "2270adfa",
   "metadata": {},
   "outputs": [],
   "source": [
    "rename_all_images_masks_set('HRIM2021/ImageSets/SegmentA','HRIM2021/AugJPEGImages')"
   ]
  },
  {
   "cell_type": "code",
   "execution_count": 28,
   "id": "c35f949b",
   "metadata": {},
   "outputs": [
    {
     "data": {
      "text/plain": [
       "'HRIM2021/ImageSets/SegmentA/val.txt'"
      ]
     },
     "execution_count": 28,
     "metadata": {},
     "output_type": "execute_result"
    }
   ],
   "source": [
    "from shutil import copyfile\n",
    "copyfile('HRIM2021/ImageSets/Segmentation_84_train/test.txt', 'HRIM2021/ImageSets/SegmentA/test.txt')\n",
    "copyfile('HRIM2021/ImageSets/Segmentation_84_train/val.txt', 'HRIM2021/ImageSets/SegmentA/val.txt')"
   ]
  },
  {
   "cell_type": "code",
   "execution_count": 37,
   "id": "32da3a26",
   "metadata": {},
   "outputs": [],
   "source": [
    "rename_sets('HRIM2021/ImageSets/Segmentation_84_train/train.txt','HRIM2021/ImageSets/SegmentA')"
   ]
  },
  {
   "cell_type": "code",
   "execution_count": 38,
   "id": "7a5f66cf",
   "metadata": {},
   "outputs": [],
   "source": [
    "copyfile('HRIM2021/ImageSets/SegmentA/train.txt', 'HRIM2021/ImageSets/SegmentA/trainval.txt')\n",
    "val=open('HRIM2021/ImageSets/SegmentA/val.txt','r')\n",
    "trainval=open('HRIM2021/ImageSets/SegmentA/trainval.txt','a+')\n",
    "V=val.readlines()\n",
    "for i in V:\n",
    "    trainval.write(i.replace('\\n','') + '_' + str(0).zfill(3) +'\\n')\n",
    "val.close()\n",
    "trainval.close()"
   ]
  },
  {
   "cell_type": "markdown",
   "id": "6759bb56",
   "metadata": {},
   "source": [
    "# Delete folder"
   ]
  },
  {
   "cell_type": "code",
   "execution_count": 14,
   "id": "a537d033",
   "metadata": {},
   "outputs": [],
   "source": [
    "#delete folder\n",
    "import shutil\n",
    "\n",
    "try:\n",
    "    shutil.rmtree('test3/AugJPEGImages')\n",
    "    shutil.rmtree('test3/AugSegmentationClass')\n",
    "except:\n",
    "    shutil.rmtree('test3/AugJPEGImages', ignore_errors=True)\n",
    "    shutil.rmtree('test3/AugSegmentationClass', ignore_errors=True)"
   ]
  },
  {
   "cell_type": "code",
   "execution_count": null,
   "id": "1ce4213b",
   "metadata": {},
   "outputs": [],
   "source": []
  }
 ],
 "metadata": {
  "kernelspec": {
   "display_name": "conda_pytorch_p36",
   "language": "python",
   "name": "conda_pytorch_p36"
  },
  "language_info": {
   "codemirror_mode": {
    "name": "ipython",
    "version": 3
   },
   "file_extension": ".py",
   "mimetype": "text/x-python",
   "name": "python",
   "nbconvert_exporter": "python",
   "pygments_lexer": "ipython3",
   "version": "3.6.13"
  }
 },
 "nbformat": 4,
 "nbformat_minor": 5
}
